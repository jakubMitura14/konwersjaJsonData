{
 "cells": [
  {
   "cell_type": "code",
   "execution_count": 1,
   "metadata": {},
   "outputs": [],
   "source": [
    "import SimpleITK as sitk\n",
    "import mdai\n",
    "import pandas as pd\n",
    "import numpy as np\n",
    "import cv2\n",
    "import pydicom\n",
    "import os\n",
    "import multiprocessing as mp\n",
    "import functools\n",
    "from functools import partial\n",
    "import mdai\n",
    "import math\n",
    "import time\n",
    "import itertools\n",
    "from pydicom.fileset import FileSet\n",
    "from os import path as pathOs\n",
    "from pathlib import Path\n",
    "import toolz\n",
    "from toolz.curried import pipe, map, filter, get\n",
    "from toolz import curry\n",
    "from os.path import basename, dirname, exists, isdir, join, split\n",
    "import nnunetv2\n",
    "\n",
    "import elastixRegister as elastixRegister\n",
    "from elastixRegister import reg_a_to_b\n",
    "\n",
    "from toolz.itertoolz import groupby\n",
    "from toolz import curry\n",
    "# import multiprocess\n",
    "# p = multiprocess.Pool(os.cpu_count())\n",
    "import multiprocessing as mp\n",
    "import json\n",
    "import os\n",
    "from subprocess import Popen\n",
    "import subprocess\n"
   ]
  },
  {
   "cell_type": "code",
   "execution_count": 3,
   "metadata": {},
   "outputs": [],
   "source": [
    "inferred_example_path='/workspaces/konwersjaJsonData/explore/to_eval_test_cases/inferred/inferred_test_cases/9002600.nii.gz'\n",
    "gold_standard_labels_path='/workspaces/konwersjaJsonData/explore/to_eval_test_cases/sources/Dataset287_Prostate/labelsTr/9002600.nii.gz'\n",
    "\n",
    "inferred_example_img= sitk.ReadImage(inferred_example_path)\n",
    "gold_standard_labels_img= sitk.ReadImage(gold_standard_labels_path)\n"
   ]
  },
  {
   "cell_type": "code",
   "execution_count": 4,
   "metadata": {},
   "outputs": [
    {
     "data": {
      "text/plain": [
       "PosixPath('/workspaces/konwersjaJsonData/explore/to_eval_test_cases/sources_detailed/Dataset287_Prostate/labelsTr/9017600.nii.gz')"
      ]
     },
     "execution_count": 4,
     "metadata": {},
     "output_type": "execute_result"
    }
   ],
   "source": [
    "\"\"\" \n",
    "we identify all single lesion files associated with our inferred label \n",
    "and we calculate how many of them has at least 80% coverage in the inferred area\n",
    "we will also calculate the percent of whole area that is not covered by any lesion\n",
    "\"\"\"\n",
    "import pathlib\n",
    "gold_detailed = list(pathlib.Path(\"/workspaces/konwersjaJsonData/explore/to_eval_test_cases/sources_detailed/Dataset287_Prostate/labelsTr\").iterdir())\n",
    "inferred=list(pathlib.Path(\"/workspaces/konwersjaJsonData/explore/to_eval_test_cases/inferred/inferred_test_cases\").iterdir())\n",
    "\n",
    "gold_detailed= list(filter(lambda ppath: 'nii.gz' in ppath.name ,gold_detailed))\n",
    "inferred= list(filter(lambda ppath: 'nii.gz' in ppath.name ,inferred))\n",
    "\n",
    "curr_inferred=inferred[0]\n",
    "curr_inferred_name= curr_inferred.name\n",
    "\n",
    "nuberrr=curr_inferred.stem.replace('.nii','')\n",
    "all_associated_with_numberr=list(filter(lambda el: nuberrr in el.name,gold_detailed))\n",
    "single_lesions=list(filter(lambda el: '_' in el.name ,all_associated_with_numberr))\n",
    "lesions_sum = list(filter(lambda el: '_' not in el.name ,all_associated_with_numberr))[0]\n",
    "\n",
    "def is_in_80_percent():\n",
    "    \"\"\" \n",
    "    checking \n",
    "    \"\"\"\n",
    "\n",
    "# example_path=list(dirr.iterdir())\n",
    "\n",
    "# example_path[0].name\n"
   ]
  },
  {
   "cell_type": "code",
   "execution_count": null,
   "metadata": {},
   "outputs": [],
   "source": []
  }
 ],
 "metadata": {
  "kernelspec": {
   "display_name": "Python 3",
   "language": "python",
   "name": "python3"
  },
  "language_info": {
   "codemirror_mode": {
    "name": "ipython",
    "version": 3
   },
   "file_extension": ".py",
   "mimetype": "text/x-python",
   "name": "python",
   "nbconvert_exporter": "python",
   "pygments_lexer": "ipython3",
   "version": "3.9.5"
  },
  "orig_nbformat": 4
 },
 "nbformat": 4,
 "nbformat_minor": 2
}
