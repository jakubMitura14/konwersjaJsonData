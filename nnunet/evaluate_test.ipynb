{
 "cells": [
  {
   "cell_type": "code",
   "execution_count": 3,
   "metadata": {},
   "outputs": [],
   "source": [
    "import SimpleITK as sitk\n",
    "import mdai\n",
    "import pandas as pd\n",
    "import numpy as np\n",
    "import cv2\n",
    "import pydicom\n",
    "import os\n",
    "import multiprocessing as mp\n",
    "import functools\n",
    "from functools import partial\n",
    "import mdai\n",
    "import math\n",
    "import time\n",
    "import itertools\n",
    "from pydicom.fileset import FileSet\n",
    "from os import path as pathOs\n",
    "from pathlib import Path\n",
    "import toolz\n",
    "from toolz.curried import pipe, map, filter, get\n",
    "from toolz import curry\n",
    "from os.path import basename, dirname, exists, isdir, join, split\n",
    "import nnunetv2\n",
    "\n",
    "import elastixRegister as elastixRegister\n",
    "from elastixRegister import reg_a_to_b\n",
    "\n",
    "from toolz.itertoolz import groupby\n",
    "from toolz import curry\n",
    "# import multiprocess\n",
    "# p = multiprocess.Pool(os.cpu_count())\n",
    "import multiprocessing as mp\n",
    "import json\n",
    "import os\n",
    "from subprocess import Popen\n",
    "import subprocess\n"
   ]
  },
  {
   "cell_type": "code",
   "execution_count": 5,
   "metadata": {},
   "outputs": [],
   "source": [
    "# inferred_example_path='/home/sliceruser/workspaces/konwersjaJsonData/to_eval_test_cases/inferred/inferred_test_cases/9002600.nii.gz'\n",
    "# gold_standard_labels_path='/home/sliceruser/workspaces/konwersjaJsonData/to_eval_test_cases/sources/Dataset287_Prostate/labelsTr/9002600.nii.gz'\n",
    "\n",
    "# inferred_example_img= sitk.ReadImage(inferred_example_path)\n",
    "# gold_standard_labels_img= sitk.ReadImage(gold_standard_labels_path)\n"
   ]
  },
  {
   "cell_type": "code",
   "execution_count": 26,
   "metadata": {},
   "outputs": [
    {
     "name": "stdout",
     "output_type": "stream",
     "text": [
      "len (305,)  summ  200\n"
     ]
    }
   ],
   "source": [
    "\"\"\" \n",
    "we identify all single lesion files associated with our inferred label \n",
    "and we calculate how many of them has at least 80% coverage in the inferred area\n",
    "we will also calculate the percent of whole area that is not covered by any lesion\n",
    "\"\"\"\n",
    "def get_bool_arr_from_path(pathh):\n",
    "    \"\"\"\n",
    "    given path reads it and return associated array\n",
    "    then it casts it to boolean data type\n",
    "    \"\"\"\n",
    "    imageA=sitk.ReadImage(pathh)\n",
    "    return sitk.GetArrayFromImage(imageA).astype(bool)\n",
    "\n",
    "\n",
    "import pathlib\n",
    "gold_detailed = list(pathlib.Path(\"/home/sliceruser/workspaces/konwersjaJsonData/to_eval_test_cases/sources_detailed/Dataset287_Prostate/labelsTr\").iterdir())\n",
    "inferred=list(pathlib.Path(\"/home/sliceruser/workspaces/konwersjaJsonData/to_eval_test_cases/inferred/inferred_test_cases\").iterdir())\n",
    "\n",
    "gold_detailed= list(filter(lambda ppath: 'nii.gz' in ppath.name ,gold_detailed))\n",
    "inferred= list(filter(lambda ppath: 'nii.gz' in ppath.name ,inferred))\n",
    "\n",
    "# curr_inferred=inferred[4]\n",
    "\n",
    "\n",
    "\n",
    "\n",
    "# all_associated_with_numberr=list(map(lambda el: el.name,all_associated_with_numberr))\n",
    "# single_lesions=list(map(lambda el: el.name,single_lesions))\n",
    "# lesions_sum=lesions_sum.name\n",
    "\n",
    "# single_lesions=list(map(lambda el: '_' in el.name ,all_associated_with_numberr))\n",
    "# lesions_sum = list(filter(lambda el: '_' not in el.name ,all_associated_with_numberr))[0]\n",
    "\n",
    "def is_in_50_percent(path_lesion,path_inferred_sum):\n",
    "    \"\"\" \n",
    "    checking weather at least 80 percent of given lesion is in the inferred lesion sum\n",
    "    \"\"\"\n",
    "    path_lesion=str(path_lesion)\n",
    "    path_inferred_sum=str(path_inferred_sum)\n",
    "    lesion=get_bool_arr_from_path(path_lesion)\n",
    "    inferred_sum=get_bool_arr_from_path(path_inferred_sum)\n",
    "    andd=np.logical_and(lesion,inferred_sum)\n",
    "    andd= np.sum(andd.flatten())\n",
    "    lesion= np.sum(lesion.flatten())\n",
    "    res= andd/lesion\n",
    "    # print(res)\n",
    "    return res>0.5\n",
    "\n",
    "# example_path=list(dirr.iterdir())\n",
    "\n",
    "# example_path[0].name\n",
    "def iter_inferred(curr_inferred):\n",
    "    curr_inferred_name= curr_inferred.name\n",
    "    nuberrr=curr_inferred.stem.replace('.nii','')\n",
    "    all_associated_with_numberr=list(filter(lambda el: nuberrr in el.name,gold_detailed))\n",
    "    single_lesions=list(filter(lambda el: '_' in el.name ,all_associated_with_numberr))\n",
    "    lesions_sum = list(filter(lambda el: '_' not in el.name ,all_associated_with_numberr))[0]\n",
    "    return list(map(lambda les : is_in_50_percent(les,curr_inferred),single_lesions))\n",
    "\n",
    "resss=list(map(iter_inferred,inferred))\n",
    "resss=np.concatenate(resss)\n",
    "print(f\"len {resss.flatten().shape}  summ  {np.sum(resss.flatten())}\" )"
   ]
  },
  {
   "cell_type": "code",
   "execution_count": 28,
   "metadata": {},
   "outputs": [
    {
     "data": {
      "text/plain": [
       "0.551779776968364"
      ]
     },
     "execution_count": 28,
     "metadata": {},
     "output_type": "execute_result"
    }
   ],
   "source": [
    "#dicee \n",
    "def get_my_dice(path_gold_sum,path_inferred_sum):\n",
    "    \"\"\" \n",
    "    checking weather at least 80 percent of given lesion is in the inferred lesion sum\n",
    "    \"\"\"\n",
    "    path_gold_sum=str(path_gold_sum)\n",
    "    path_inferred_sum=str(path_inferred_sum)\n",
    "    gold_sum=get_bool_arr_from_path(path_gold_sum)\n",
    "    inferred_sum=get_bool_arr_from_path(path_inferred_sum)\n",
    "    andd=np.logical_and(gold_sum,inferred_sum)\n",
    "    andd= np.sum(andd.flatten())*2\n",
    "    res= andd/(np.sum(gold_sum.flatten() )+  np.sum(inferred_sum.flatten() )  )\n",
    "    # print(res)\n",
    "    return res\n",
    "def iter_inferred_for_dice(curr_inferred):\n",
    "    curr_inferred_name= curr_inferred.name\n",
    "    nuberrr=curr_inferred.stem.replace('.nii','')\n",
    "    all_associated_with_numberr=list(filter(lambda el: nuberrr in el.name,gold_detailed))\n",
    "    lesions_sum = list(filter(lambda el: '_' not in el.name ,all_associated_with_numberr))[0]\n",
    "    return get_my_dice(lesions_sum,curr_inferred)\n",
    "\n",
    "dicess=list(map(iter_inferred_for_dice,inferred))\n",
    "np.mean(dicess)"
   ]
  },
  {
   "attachments": {},
   "cell_type": "markdown",
   "metadata": {},
   "source": [
    "# Full prostate anatomical"
   ]
  },
  {
   "cell_type": "markdown",
   "metadata": {},
   "source": []
  }
 ],
 "metadata": {
  "kernelspec": {
   "display_name": "Python 3",
   "language": "python",
   "name": "python3"
  },
  "language_info": {
   "codemirror_mode": {
    "name": "ipython",
    "version": 3
   },
   "file_extension": ".py",
   "mimetype": "text/x-python",
   "name": "python",
   "nbconvert_exporter": "python",
   "pygments_lexer": "ipython3",
   "version": "3.9.5"
  },
  "orig_nbformat": 4
 },
 "nbformat": 4,
 "nbformat_minor": 2
}
