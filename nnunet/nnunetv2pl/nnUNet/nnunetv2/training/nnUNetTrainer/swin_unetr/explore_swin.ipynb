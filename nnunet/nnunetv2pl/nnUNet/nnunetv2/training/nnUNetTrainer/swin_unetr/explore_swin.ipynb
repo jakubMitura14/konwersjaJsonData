{
 "cells": [
  {
   "cell_type": "code",
   "execution_count": 1,
   "metadata": {},
   "outputs": [],
   "source": [
    "import SimpleITK as sitk\n",
    "from subprocess import Popen\n",
    "import subprocess\n",
    "import SimpleITK as sitk\n",
    "import pandas as pd\n",
    "import multiprocessing as mp\n",
    "import functools\n",
    "from functools import partial\n",
    "import sys\n",
    "import os.path\n",
    "from os import path as pathOs\n",
    "import numpy as np\n",
    "import tempfile\n",
    "import shutil\n",
    "from os.path import basename, dirname, exists, isdir, join, split\n",
    "from pathlib import Path\n",
    "import fileinput\n",
    "import re\n",
    "import subprocess\n",
    "from toolz.itertoolz import groupby\n",
    "import seaborn as sns\n",
    "import einops\n",
    "import matplotlib.pyplot as plt\n",
    "import itertools\n",
    "import SimpleITK as sitk\n",
    "import mdai\n",
    "import pandas as pd\n",
    "import numpy as np\n",
    "import cv2\n",
    "import pydicom\n",
    "import os\n",
    "import multiprocessing as mp\n",
    "import functools\n",
    "from functools import partial\n",
    "import mdai\n",
    "import math\n",
    "import time\n",
    "import itertools\n",
    "from pydicom.fileset import FileSet\n",
    "from os import path as pathOs\n",
    "from pathlib import Path\n",
    "import toolz\n",
    "from toolz.curried import pipe, map, filter, get\n",
    "from toolz import curry\n",
    "from os.path import basename, dirname, exists, isdir, join, split\n",
    "import nnunetv2\n",
    "import tempfile\n",
    "import shutil\n",
    "import re\n",
    "from toolz.itertoolz import groupby\n",
    "from toolz import curry\n",
    "# import multiprocess\n",
    "# p = multiprocess.Pool(os.cpu_count())\n",
    "import multiprocessing as mp\n",
    "import json\n",
    "import os\n",
    "from subprocess import Popen\n",
    "import subprocess\n",
    "from skimage.segmentation import mark_boundaries\n",
    "from scipy import ndimage\n",
    "import torch\n",
    "import xformers.components.attention.attention_patterns as AP\n",
    "from xformers.components.attention.core import scaled_dot_product_attention\n",
    "from xformers.components.attention._sputnik_sparse import SparseCS\n",
    "import xformers.components.attention.attention_patterns as AP\n",
    "%matplotlib inline"
   ]
  },
  {
   "cell_type": "code",
   "execution_count": 2,
   "metadata": {},
   "outputs": [
    {
     "data": {
      "text/plain": [
       "<AxesSubplot:>"
      ]
     },
     "execution_count": 2,
     "metadata": {},
     "output_type": "execute_result"
    },
    {
     "data": {
      "image/png": "[encoded data removed]",
      "text/plain": [
       "<Figure size 432x288 with 2 Axes>"
      ]
     },
     "metadata": {
      "needs_background": "light"
     },
     "output_type": "display_data"
    }
   ],
   "source": [
    "\n",
    "\n",
    "def window_partition(x, window_size):\n",
    "    \"\"\"window partition operation based on: \"Liu et al.,\n",
    "    Swin Transformer: Hierarchical Vision Transformer using Shifted Windows\n",
    "    <https://arxiv.org/abs/2103.14030>\"\n",
    "    https://github.com/microsoft/Swin-Transformer\n",
    "\n",
    "     Args:\n",
    "        x: input tensor.\n",
    "        window_size: local window size.\n",
    "    \"\"\"\n",
    "    x_shape = x.size()\n",
    "    if len(x_shape) == 5:\n",
    "        b, d, h, w, c = x_shape\n",
    "        x = x.view(\n",
    "            b,\n",
    "            d // window_size[0],\n",
    "            window_size[0],\n",
    "            h // window_size[1],\n",
    "            window_size[1],\n",
    "            w // window_size[2],\n",
    "            window_size[2],\n",
    "            c,\n",
    "        )\n",
    "        windows = (\n",
    "            x.permute(0, 1, 3, 5, 2, 4, 6, 7).contiguous().view(-1, window_size[0] * window_size[1] * window_size[2], c)\n",
    "        )\n",
    "    elif len(x_shape) == 4:\n",
    "        b, h, w, c = x.shape\n",
    "        x = x.view(b, h // window_size[0], window_size[0], w // window_size[1], window_size[1], c)\n",
    "        windows = x.permute(0, 1, 3, 2, 4, 5).contiguous().view(-1, window_size[0] * window_size[1], c)\n",
    "    return windows\n",
    "\n",
    "def compute_mask(dims, window_size, shift_size, device):\n",
    "    \"\"\"Computing region masks based on: \"Liu et al.,\n",
    "    Swin Transformer: Hierarchical Vision Transformer using Shifted Windows\n",
    "    <https://arxiv.org/abs/2103.14030>\"\n",
    "    https://github.com/microsoft/Swin-Transformer\n",
    "\n",
    "     Args:\n",
    "        dims: dimension values.\n",
    "        window_size: local window size.\n",
    "        shift_size: shift size.\n",
    "        device: device.\n",
    "    \"\"\"\n",
    "\n",
    "    cnt = 0\n",
    "\n",
    "    if len(dims) == 3:\n",
    "        d, h, w = dims\n",
    "        img_mask = torch.zeros((1, d, h, w, 1), device=device)\n",
    "        for d in slice(-window_size[0]), slice(-window_size[0], -shift_size[0]), slice(-shift_size[0], None):\n",
    "            for h in slice(-window_size[1]), slice(-window_size[1], -shift_size[1]), slice(-shift_size[1], None):\n",
    "                for w in slice(-window_size[2]), slice(-window_size[2], -shift_size[2]), slice(-shift_size[2], None):\n",
    "                    img_mask[:, d, h, w, :] = cnt\n",
    "                    cnt += 1\n",
    "    elif len(dims) == 2:\n",
    "        h, w = dims\n",
    "        img_mask = torch.zeros((1, h, w, 1), device=device)\n",
    "        for h in slice(-window_size[0]), slice(-window_size[0], -shift_size[0]), slice(-shift_size[0], None):\n",
    "            for w in slice(-window_size[1]), slice(-window_size[1], -shift_size[1]), slice(-shift_size[1], None):\n",
    "                img_mask[:, h, w, :] = cnt\n",
    "                cnt += 1\n",
    "    mask_windows = window_partition(img_mask, window_size)\n",
    "    mask_windows = mask_windows.squeeze(-1)\n",
    "    attn_mask = mask_windows.unsqueeze(1) - mask_windows.unsqueeze(2)\n",
    "    attn_mask = attn_mask.masked_fill(attn_mask != 0, float(-100.0)).masked_fill(attn_mask == 0, float(0.0))\n",
    "    return attn_mask\n",
    "\n",
    "dims=(8,8)\n",
    "window_size=(4,4)\n",
    "shift_size=(1,1)\n",
    "device='cpu'\n",
    "res=compute_mask(dims, window_size, shift_size, device)\n",
    "res.shape\n",
    "sns.heatmap(res[2,:,:].detach().cpu().numpy())"
   ]
  },
  {
   "cell_type": "code",
   "execution_count": 3,
   "metadata": {},
   "outputs": [
    {
     "name": "stderr",
     "output_type": "stream",
     "text": [
      "/usr/local/lib/python3.10/dist-packages/torch/functional.py:504: UserWarning: torch.meshgrid: in an upcoming release, it will be required to pass the indexing argument. (Triggered internally at ../aten/src/ATen/native/TensorShape.cpp:3483.)\n",
      "  return _VF.meshgrid(tensors, **kwargs)  # type: ignore[attr-defined]\n"
     ]
    },
    {
     "data": {
      "text/plain": [
       "<matplotlib.image.AxesImage at 0x7f176c929d50>"
      ]
     },
     "execution_count": 3,
     "metadata": {},
     "output_type": "execute_result"
    },
    {
     "data": {
      "image/png": "[encoded data removed]",
      "text/plain": [
       "<Figure size 432x288 with 1 Axes>"
      ]
     },
     "metadata": {
      "needs_background": "light"
     },
     "output_type": "display_data"
    }
   ],
   "source": [
    "# generic nd cases\n",
    "def _generate_nd_grid(*sizes):\n",
    "    coords = [torch.arange(s) for s in sizes]\n",
    "    return torch.meshgrid(*coords)\n",
    "\n",
    "\n",
    "def swin_attention_pattern(H, W, window_size, shift_size=0):\n",
    "    assert H % window_size == 0\n",
    "    assert W % window_size == 0\n",
    "    assert 0 <= shift_size < window_size, \"shift_size must in 0-window_size\"\n",
    "\n",
    "    # input grid\n",
    "    i, j = _generate_nd_grid(H, W)\n",
    "    i, j = i + 0.5, j + 0.5\n",
    "\n",
    "    # anchors grid\n",
    "    # if shift is present, add extra element to the grid\n",
    "    # to account for the uneven partitioning\n",
    "    extra = int(shift_size % window_size != 0)\n",
    "    grid_h = H // window_size + extra\n",
    "    grid_w = W // window_size + extra\n",
    "\n",
    "    ii, jj = _generate_nd_grid(grid_h, grid_w)\n",
    "    # convert shift to be compatible with the paper representation\n",
    "    s = (-shift_size) % window_size\n",
    "    offset = window_size / 2 - s\n",
    "    ii = ii * window_size + offset\n",
    "    jj = jj * window_size + offset\n",
    "\n",
    "    input_coords = torch.stack([i.flatten(), j.flatten()], 1).float()\n",
    "    anchors_coords = torch.stack([ii.flatten(), jj.flatten()], 1).float()\n",
    "\n",
    "    anchor_id = torch.cdist(input_coords, anchors_coords, p=2).argmin(1)\n",
    "    mask = anchor_id[:, None] == anchor_id[None, :]\n",
    "    return mask\n",
    "\n",
    "aa=swin_attention_pattern(8,8, 4, 2)\n",
    "plt.imshow(aa)"
   ]
  },
  {
   "cell_type": "code",
   "execution_count": 4,
   "metadata": {},
   "outputs": [
    {
     "data": {
      "text/plain": [
       "<matplotlib.image.AxesImage at 0x7f176c9a5b10>"
      ]
     },
     "execution_count": 4,
     "metadata": {},
     "output_type": "execute_result"
    },
    {
     "data": {
      "image/png": "[encoded data removed]",
      "text/plain": [
       "<Figure size 432x288 with 1 Axes>"
      ]
     },
     "metadata": {
      "needs_background": "light"
     },
     "output_type": "display_data"
    }
   ],
   "source": [
    "\n",
    "def swin_attention_pattern_3D(H, W,D, window_size, shift_size=0):\n",
    "    assert H % window_size == 0\n",
    "    assert W % window_size == 0\n",
    "    assert D % window_size == 0\n",
    "    assert 0 <= shift_size < window_size, \"shift_size must in 0-window_size\"\n",
    "\n",
    "    # input grid\n",
    "    i, j ,k = _generate_nd_grid(H, W,D)\n",
    "    i, j ,k = i + 0.5, j + 0.5, k + 0.5\n",
    "\n",
    "    # anchors grid\n",
    "    # if shift is present, add extra element to the grid\n",
    "    # to account for the uneven partitioning\n",
    "    extra = int(shift_size % window_size != 0)\n",
    "    grid_h = H // window_size + extra\n",
    "    grid_w = W // window_size + extra\n",
    "    grid_d = D // window_size + extra\n",
    "\n",
    "    ii, jj ,kk= _generate_nd_grid(grid_h, grid_w,grid_d)\n",
    "    # convert shift to be compatible with the paper representation\n",
    "    s = (-shift_size) % window_size\n",
    "    offset = window_size / 2 - s\n",
    "    ii = ii * window_size + offset\n",
    "    jj = jj * window_size + offset\n",
    "    kk = kk * window_size + offset\n",
    "\n",
    "\n",
    "    input_coords = torch.stack([i.flatten(), j.flatten(),k.flatten()], 1).float()\n",
    "    anchors_coords = torch.stack([ii.flatten(), jj.flatten(),jj.flatten()], 1).float()\n",
    "\n",
    "    anchor_id = torch.cdist(input_coords, anchors_coords, p=2).argmin(1)\n",
    "    mask = anchor_id[:, None] == anchor_id[None, :]\n",
    "    return mask\n",
    "aa=swin_attention_pattern_3D(8,8,8, 4, 2)\n",
    "plt.imshow(aa)"
   ]
  },
  {
   "cell_type": "code",
   "execution_count": 5,
   "metadata": {},
   "outputs": [],
   "source": [
    "from xformers.factory import xFormer, xFormerConfig\n",
    "from xformers.helpers.hierarchical_configs import (\n",
    "    BasicLayerConfig,\n",
    "    get_hierarchical_configuration,\n",
    ")"
   ]
  },
  {
   "cell_type": "code",
   "execution_count": 68,
   "metadata": {},
   "outputs": [
    {
     "data": {
      "text/plain": [
       "<xformers.components.attention._sputnik_sparse.SparseCS at 0x7f176224cb80>"
      ]
     },
     "execution_count": 68,
     "metadata": {},
     "output_type": "execute_result"
    }
   ],
   "source": [
    "def _generate_nd_grid(*sizes):\n",
    "    coords = [torch.arange(s) for s in sizes]\n",
    "    return torch.meshgrid(*coords)\n",
    "\n",
    "\n",
    "def local_nd_distance(*sizes, p=2.0, weights=None):\n",
    "    if weights is None:\n",
    "        weights = (1,) * len(sizes)\n",
    "    assert len(sizes) == len(weights)\n",
    "    grid = _generate_nd_grid(*sizes)\n",
    "    grid = [i.flatten() * w for i, w in zip(grid, weights)]\n",
    "    grid = torch.stack(grid, dim=1).float()\n",
    "    d = torch.cdist(grid, grid, p=p)\n",
    "    return d\n",
    "\n",
    "def local_nd_pattern(*sizes, distance, p=2.0):\n",
    "    d = local_nd_distance(*sizes, p=p)\n",
    "    # print(d)\n",
    "    return d < distance\n",
    "\n",
    "\n",
    "pat=local_nd_pattern(4,4,4,distance=1.5)\n",
    "# plt.imshow(pat)\n",
    "# d=local_nd_distance(6,6,6)\n",
    "# plt.imshow(d)\n",
    "\n",
    "attn_mask = SparseCS(pat, torch.device(\"cpu\"))\n",
    "attn_mask"
   ]
  },
  {
   "cell_type": "code",
   "execution_count": 71,
   "metadata": {},
   "outputs": [
    {
     "data": {
      "text/plain": [
       "torch.Size([64, 64])"
      ]
     },
     "execution_count": 71,
     "metadata": {},
     "output_type": "execute_result"
    }
   ],
   "source": [
    "        # csr_matrix = SparseCSRTensor._wrap(\n",
    "        #     _shape, values, row_indices, row_offsets, column_indices, _transp_info\n",
    "        # )\n",
    "attn_mask.shape"
   ]
  },
  {
   "cell_type": "code",
   "execution_count": 74,
   "metadata": {},
   "outputs": [
    {
     "name": "stdout",
     "output_type": "stream",
     "text": [
      "kkkk torch.Size([64, 3])\n",
      "kkkk torch.Size([64, 3])\n",
      "orig tensor([  0,   7,  17,  27,  34,  44,  58,  72,  82,  92, 106, 120, 130, 137,\n",
      "        147, 157, 164, 174, 188, 202, 212, 226, 245, 264, 278, 292, 311, 330,\n",
      "        344, 354, 368, 382, 392, 402, 416, 430, 440, 454, 473, 492, 506, 520,\n",
      "        539, 558, 572, 582, 596, 610, 620, 627, 637, 647, 654, 664, 678, 692,\n",
      "        702, 712, 726, 740, 750, 757, 767, 777, 784], dtype=torch.int32)  fused tensor([  0,   3,   7,  11,  14,  20,  28,  36,  42,  50,  61,  72,  80,  87,\n",
      "         97, 107, 114, 118, 124, 130, 134, 141, 151, 161, 168, 177, 190, 203,\n",
      "        212, 219, 229, 239, 246, 249, 253, 257, 260, 264, 269, 274, 278, 282,\n",
      "        287, 292, 296, 299, 303, 307, 308, 308, 308, 308, 308, 308, 308, 308,\n",
      "        308, 308, 308, 308, 308, 308, 308, 308, 308], dtype=torch.int32) orig torch.Size([65])  fused torch.Size([65])  \n"
     ]
    },
    {
     "data": {
      "text/plain": [
       "False"
      ]
     },
     "execution_count": 74,
     "metadata": {},
     "output_type": "execute_result"
    }
   ],
   "source": [
    "from xformers.sparse import SparseCSRTensor\n",
    "\n",
    "def _generate_nd_grid(*sizes):\n",
    "    coords = [torch.arange(s) for s in sizes]\n",
    "    return torch.meshgrid(*coords)\n",
    "\n",
    "\n",
    "def local_nd_distance_parts(*sizes, p=2.0, weights=None,start=0,end=10):\n",
    "    if weights is None:\n",
    "        weights = (1,) * len(sizes)\n",
    "    assert len(sizes) == len(weights)\n",
    "    grid = _generate_nd_grid(*sizes)\n",
    "    grid = [i.flatten() * w for i, w in zip(grid, weights)]\n",
    "    grid = torch.stack(grid, dim=1).float()\n",
    "    print(f\"kkkk {grid.shape}\")\n",
    "    d = torch.cdist(grid, grid[start:end,:], p=p)\n",
    "    return d\n",
    "\n",
    "def local_nd_pattern(*sizes, distance, p=2.0,start=0,end=10):\n",
    "    d = local_nd_distance_parts(*sizes, p=p\n",
    "                                ,start=start\n",
    "                                ,end=end)\n",
    "    # print(d)\n",
    "    return d < distance\n",
    "part_1= SparseCS(local_nd_pattern(4,4,4,distance=1.5,start=0,end=32), torch.device(\"cpu\"))\n",
    "part_2= SparseCS(local_nd_pattern(4,4,4,distance=1.5,start=8,end=32), torch.device(\"cpu\"))\n",
    "\n",
    "\n",
    "fused=SparseCS.wrap(shape=(64,64)\n",
    "              ,values= torch.cat([part_1.values,part_2.values],dim=-1)\n",
    "              ,row_indices= torch.cat([part_1.row_indices,part_2.row_indices],dim=-1)\n",
    "              ,row_offsets= torch.cat([part_2.row_offsets],dim=-1)#+part_1.row_offsets[-1]\n",
    "              ,column_indices= torch.cat([part_1.column_indices,part_2.column_indices],dim=-1)\n",
    "              ,_transp_info=(\n",
    "                  torch.cat([part_1._transp_info[0],part_2._transp_info[0]],dim=-1)\n",
    "                  ,torch.cat([part_1._transp_info[1],part_2._transp_info[1]],dim=-1)\n",
    "                  ,torch.cat([part_1._transp_info[2],part_2._transp_info[2]],dim=-1)\n",
    "                  ,torch.cat([part_1._transp_info[3],part_2._transp_info[3]],dim=-1)\n",
    "                            )    )\n",
    "# plt.imshow(pat)\n",
    "# d=local_nd_distance(6,6,6)\n",
    "# plt.imshow(d)\n",
    "\n",
    "#torch.Size([1, 24, 24, 48, 40]) a torch.Size([1, 48, 12, 24, 20]) b  torch.Size([1, 96, 6, 12, 10])  \n",
    "\n",
    "# attn_mask = SparseCS(pat, torch.device(\"cpu\"))\n",
    "print(f\"orig {attn_mask.row_offsets}  fused {fused.row_offsets} orig {attn_mask.row_offsets.shape}  fused {fused.row_offsets.shape}  \")\n",
    "torch.equal(attn_mask.row_offsets,fused.row_offsets)"
   ]
  },
  {
   "cell_type": "code",
   "execution_count": 77,
   "metadata": {},
   "outputs": [
    {
     "data": {
      "text/plain": [
       "array([[[ 0,  1,  2],\n",
       "        [ 3,  4,  5],\n",
       "        [ 6,  7,  8]],\n",
       "\n",
       "       [[ 9, 10, 11],\n",
       "        [12, 13, 14],\n",
       "        [15, 16, 17]],\n",
       "\n",
       "       [[18, 19, 20],\n",
       "        [21, 22, 23],\n",
       "        [24, 25, 26]]])"
      ]
     },
     "execution_count": 77,
     "metadata": {},
     "output_type": "execute_result"
    }
   ],
   "source": [
    "import einops\n",
    "np.arange(3*3*3).reshape((3,3,3))"
   ]
  },
  {
   "cell_type": "code",
   "execution_count": null,
   "metadata": {},
   "outputs": [],
   "source": []
  },
  {
   "cell_type": "code",
   "execution_count": 23,
   "metadata": {},
   "outputs": [
    {
     "name": "stdout",
     "output_type": "stream",
     "text": [
      "(23040, 3)\n",
      "(23040, 23040)\n"
     ]
    },
    {
     "data": {
      "text/plain": [
       "<matplotlib.image.AxesImage at 0x7f1762290070>"
      ]
     },
     "execution_count": 23,
     "metadata": {},
     "output_type": "execute_result"
    },
    {
     "data": {
      "image/png": "[encoded data removed]",
      "text/plain": [
       "<Figure size 432x288 with 1 Axes>"
      ]
     },
     "metadata": {
      "needs_background": "light"
     },
     "output_type": "display_data"
    }
   ],
   "source": [
    "\n",
    "# import scipy\n",
    "\n",
    "# def _generate_nd_grid(*sizes):\n",
    "#     coords = [np.arange(s) for s in sizes]\n",
    "#     return np.meshgrid(*coords)\n",
    "\n",
    "# def local_nd_distance(*sizes, p=2.0, weights=None):\n",
    "#     if weights is None:\n",
    "#         weights = (1,) * len(sizes)\n",
    "#     assert len(sizes) == len(weights)\n",
    "#     grid = _generate_nd_grid(*sizes)\n",
    "#     grid = [i.flatten() * w for i, w in zip(grid, weights)]\n",
    "#     grid = np.stack(grid, axis=1)#.astype(float)\n",
    "#     print(grid.shape)\n",
    "#     d = scipy.spatial.distance.cdist(grid, grid, 'euclidean')\n",
    "#     print(d.shape)\n",
    "#     return d\n",
    "\n",
    "# def local_nd_pattern(*sizes, distance, p=2.0):\n",
    "#     d = local_nd_distance(*sizes, p=p)\n",
    "#     # print(d)\n",
    "#     return d < distance\n",
    "\n",
    "# # patB=local_nd_pattern(24,96,80,distance=1.5)\n",
    "# patB=local_nd_pattern(12,48,40,distance=1.5)\n",
    "# plt.imshow(patB)"
   ]
  },
  {
   "cell_type": "code",
   "execution_count": 19,
   "metadata": {},
   "outputs": [
    {
     "data": {
      "text/plain": [
       "[1, 14, 6, 24, 20]"
      ]
     },
     "execution_count": 19,
     "metadata": {},
     "output_type": "execute_result"
    }
   ],
   "source": [
    "batch_size=1\n",
    "img_size=(24,96,80)\n",
    "# img_size=(16,16,16)\n",
    "patch_size=(2,2,2)\n",
    "i_layer=1\n",
    "embed_dim=7\n",
    "\n",
    "def get_image_size():\n",
    "    p= patch_size\n",
    "    res=[batch_size,embed_dim,img_size[0]/p[0],img_size[1]/p[1],img_size[2]/p[2]]\n",
    "    for i in range(i_layer):\n",
    "        res[1]=res[1]*2\n",
    "        res[2]=int(res[2]//2)\n",
    "        res[3]=int(res[3]//2)\n",
    "        res[4]=int(res[4]//2)\n",
    "    return res\n",
    "\n",
    "get_image_size()\n"
   ]
  },
  {
   "cell_type": "code",
   "execution_count": 18,
   "metadata": {},
   "outputs": [
    {
     "data": {
      "text/plain": [
       "array([[ 0,  0,  0],\n",
       "       [ 0,  0,  1],\n",
       "       [ 0,  0,  2],\n",
       "       ...,\n",
       "       [15, 15, 13],\n",
       "       [15, 15, 14],\n",
       "       [15, 15, 15]])"
      ]
     },
     "execution_count": 18,
     "metadata": {},
     "output_type": "execute_result"
    }
   ],
   "source": [
    "sizes=(16,16,16)\n",
    "grid = _generate_nd_grid(*sizes)\n",
    "weights = (1,) * len(sizes)\n",
    "grid = [i.flatten() * w for i, w in zip(grid, weights)]\n",
    "grid = np.stack(grid, axis=1)#.astype(float)\n",
    "grid"
   ]
  },
  {
   "cell_type": "code",
   "execution_count": 84,
   "metadata": {},
   "outputs": [
    {
     "data": {
      "text/plain": [
       "tensor([0., 2., 0.])"
      ]
     },
     "execution_count": 84,
     "metadata": {},
     "output_type": "execute_result"
    }
   ],
   "source": [
    "sizes=(3,3,3)\n",
    "grid = _generate_nd_grid(*sizes)\n",
    "grid = [i.flatten() * w for i, w in zip(grid, weights)]\n",
    "grid = torch.stack(grid, dim=1).float()\n",
    "res=einops.rearrange(grid,'(x y z) p->x y z p',x=3,y=3,z=3)\n",
    "# grid.shape $ torch.Size([27, 3])\n",
    "res[0,2,0]"
   ]
  },
  {
   "cell_type": "code",
   "execution_count": null,
   "metadata": {},
   "outputs": [],
   "source": []
  }
 ],
 "metadata": {
  "kernelspec": {
   "display_name": "Python 3",
   "language": "python",
   "name": "python3"
  },
  "language_info": {
   "codemirror_mode": {
    "name": "ipython",
    "version": 3
   },
   "file_extension": ".py",
   "mimetype": "text/x-python",
   "name": "python",
   "nbconvert_exporter": "python",
   "pygments_lexer": "ipython3",
   "version": "3.10.12"
  },
  "orig_nbformat": 4
 },
 "nbformat": 4,
 "nbformat_minor": 2
}
